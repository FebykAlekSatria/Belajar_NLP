{
 "cells": [
  {
   "cell_type": "code",
   "execution_count": 24,
   "source": [
    "import nltk"
   ],
   "outputs": [],
   "metadata": {}
  },
  {
   "cell_type": "code",
   "execution_count": 25,
   "source": [
    "def create_nltk_text(file):\n",
    "    f = open(file,'r')\n",
    "    raw = f.read()\n",
    "    tokens = nltk.word_tokenize(raw)\n",
    "    return nltk.Text(tokens)"
   ],
   "outputs": [],
   "metadata": {}
  },
  {
   "cell_type": "code",
   "execution_count": 26,
   "source": [
    "textA = create_nltk_text('txt/a.txt')\n",
    "textB = create_nltk_text('txt/b.txt')\n",
    "textC = create_nltk_text('txt/c.txt')"
   ],
   "outputs": [],
   "metadata": {}
  },
  {
   "cell_type": "code",
   "execution_count": 27,
   "source": [
    "textA.concordance('Indonesia')"
   ],
   "outputs": [
    {
     "output_type": "stream",
     "name": "stdout",
     "text": [
      "Displaying 11 of 11 matches:\n",
      " Indonesia ( /ˌɪndəˈniːʒə/ ( About this sound\n",
      "zhə ) , officially the Republic of Indonesia ( Indonesian : Republik Indonesia \n",
      " Indonesia ( Indonesian : Republik Indonesia [ reˈpublik ɪndoˈnesia ] ( About t\n",
      "d parts of Borneo and New Guinea . Indonesia is the world 's largest island cou\n",
      "ith more than 270 million people , Indonesia is the world 's fourth-most populo\n",
      "alf of the country 's population . Indonesia is a presidential , constitutional\n",
      "on and densely populated regions , Indonesia has vast areas of wilderness that \n",
      "he archipelago . The concept of `` Indonesia '' as a nation-state emerged in th\n",
      "til 1949 that the Dutch recognised Indonesia 's sovereignty following an armed \n",
      "lomatic conflict between the two . Indonesia consists of hundreds of distinct n\n",
      "ellion against it . The economy of Indonesia is the world 's 16th-largest by no\n"
     ]
    }
   ],
   "metadata": {}
  },
  {
   "cell_type": "code",
   "execution_count": 28,
   "source": [
    "textB.concordance('Indonesia')"
   ],
   "outputs": [
    {
     "output_type": "stream",
     "name": "stdout",
     "text": [
      "Displaying 8 of 8 matches:\n",
      " Melanesians , who inhabit eastern Indonesia ( the Maluku Islands and Western N\n",
      "icial status under the name Bahasa Indonesia in 1945 . [ 221 ] As a result of c\n",
      "an languages are spoken in eastern Indonesia . [ 3 ] Of these , Javanese is the\n",
      "th 231 million adherents in 2018 , Indonesia is the world 's most populous Musl\n",
      "ntury , [ 244 ] and its history in Indonesia is closely related to that of Hind\n",
      "hdadi Jews . Since most left after Indonesia proclaimed independence , Judaism \n",
      " At the national and local level , Indonesia 's political leadership and civil \n",
      "vocation of the first principle of Indonesia 's philosophical foundation , Panc\n"
     ]
    }
   ],
   "metadata": {}
  },
  {
   "cell_type": "code",
   "execution_count": 29,
   "source": [
    "textA.similar('Indonesia')"
   ],
   "outputs": [
    {
     "output_type": "stream",
     "name": "stdout",
     "text": [
      "\n"
     ]
    }
   ],
   "metadata": {}
  },
  {
   "cell_type": "code",
   "execution_count": 30,
   "source": [
    "textB.similar('Indonesia')"
   ],
   "outputs": [
    {
     "output_type": "stream",
     "name": "stdout",
     "text": [
      "what parts\n"
     ]
    }
   ],
   "metadata": {}
  },
  {
   "cell_type": "code",
   "execution_count": 31,
   "source": [
    "textC.generate()"
   ],
   "outputs": [
    {
     "output_type": "stream",
     "name": "stdout",
     "text": [
      "due to its widespread use in education , academics , communications ,\n",
      "business , politics , and military campaigns by several sultanates\n",
      "helped accelerate the spread of Islam . , forests , mountains , or\n",
      "sacred sites . Portuguese and English . Despite its large population\n",
      "and densely populated regions , Indonesia 's sovereignty following an\n",
      "armed and diplomatic conflict between the Indian and Pacific oceans .\n",
      "small minorities that can speak it or Dutch-based creole languages\n",
      "fluently are the aforementioned ethnic groups and descendants of Dutch\n",
      "colonisers . Indian subcontinent . and Dayak Christians—practising a\n",
      "less orthodox , syncretic\n"
     ]
    },
    {
     "output_type": "stream",
     "name": "stderr",
     "text": [
      "Building ngram index...\n"
     ]
    },
    {
     "output_type": "execute_result",
     "data": {
      "text/plain": [
       "\"due to its widespread use in education , academics , communications ,\\nbusiness , politics , and military campaigns by several sultanates\\nhelped accelerate the spread of Islam . , forests , mountains , or\\nsacred sites . Portuguese and English . Despite its large population\\nand densely populated regions , Indonesia 's sovereignty following an\\narmed and diplomatic conflict between the Indian and Pacific oceans .\\nsmall minorities that can speak it or Dutch-based creole languages\\nfluently are the aforementioned ethnic groups and descendants of Dutch\\ncolonisers . Indian subcontinent . and Dayak Christians—practising a\\nless orthodox , syncretic\""
      ]
     },
     "metadata": {},
     "execution_count": 31
    }
   ],
   "metadata": {}
  },
  {
   "cell_type": "code",
   "execution_count": 34,
   "source": [
    "totalVocab = len(textC)"
   ],
   "outputs": [],
   "metadata": {}
  },
  {
   "cell_type": "code",
   "execution_count": 35,
   "source": [
    "uniqVocab = len(set(textC))"
   ],
   "outputs": [],
   "metadata": {}
  },
  {
   "cell_type": "code",
   "execution_count": 37,
   "source": [
    "(uniqVocab/totalVocab)*100"
   ],
   "outputs": [
    {
     "output_type": "execute_result",
     "data": {
      "text/plain": [
       "39.20956838273531"
      ]
     },
     "metadata": {},
     "execution_count": 37
    }
   ],
   "metadata": {}
  },
  {
   "cell_type": "code",
   "execution_count": 39,
   "source": [
    "100/39.20"
   ],
   "outputs": [
    {
     "output_type": "execute_result",
     "data": {
      "text/plain": [
       "2.5510204081632653"
      ]
     },
     "metadata": {},
     "execution_count": 39
    }
   ],
   "metadata": {}
  }
 ],
 "metadata": {
  "orig_nbformat": 4,
  "language_info": {
   "name": "python",
   "version": "3.8.10",
   "mimetype": "text/x-python",
   "codemirror_mode": {
    "name": "ipython",
    "version": 3
   },
   "pygments_lexer": "ipython3",
   "nbconvert_exporter": "python",
   "file_extension": ".py"
  },
  "kernelspec": {
   "name": "python3",
   "display_name": "Python 3.8.10 64-bit"
  },
  "interpreter": {
   "hash": "916dbcbb3f70747c44a77c7bcd40155683ae19c65e1c03b4aa3499c5328201f1"
  }
 },
 "nbformat": 4,
 "nbformat_minor": 2
}