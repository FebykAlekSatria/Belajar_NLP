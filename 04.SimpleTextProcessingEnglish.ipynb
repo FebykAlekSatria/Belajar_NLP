{
 "cells": [
  {
   "cell_type": "code",
   "execution_count": 9,
   "source": [
    "from nltk.corpus import gutenberg, stopwords\n",
    "from nltk import word_tokenize, FreqDist"
   ],
   "outputs": [],
   "metadata": {}
  },
  {
   "cell_type": "code",
   "execution_count": 5,
   "source": [
    "text = gutenberg.raw('blake-poems.txt')"
   ],
   "outputs": [],
   "metadata": {}
  },
  {
   "cell_type": "code",
   "execution_count": 16,
   "source": [
    "wordToken = word_tokenize(text)\n",
    "freqDist = FreqDist(wordToken)\n",
    "freqDist.most_common(20)"
   ],
   "outputs": [
    {
     "output_type": "execute_result",
     "data": {
      "text/plain": [
       "[(',', 685),\n",
       " ('the', 351),\n",
       " ('.', 221),\n",
       " ('And', 176),\n",
       " ('and', 169),\n",
       " ('of', 131),\n",
       " ('I', 130),\n",
       " ('in', 116),\n",
       " ('a', 107),\n",
       " (';', 99),\n",
       " ('to', 92),\n",
       " (':', 76),\n",
       " ('my', 72),\n",
       " ('!', 68),\n",
       " ('?', 65),\n",
       " ('The', 61),\n",
       " ('with', 59),\n",
       " ('``', 50),\n",
       " ('his', 49),\n",
       " ('is', 45)]"
      ]
     },
     "metadata": {},
     "execution_count": 16
    }
   ],
   "metadata": {}
  },
  {
   "cell_type": "code",
   "execution_count": 10,
   "source": [
    "stopwords.words('english')"
   ],
   "outputs": [
    {
     "output_type": "execute_result",
     "data": {
      "text/plain": [
       "['i',\n",
       " 'me',\n",
       " 'my',\n",
       " 'myself',\n",
       " 'we',\n",
       " 'our',\n",
       " 'ours',\n",
       " 'ourselves',\n",
       " 'you',\n",
       " \"you're\",\n",
       " \"you've\",\n",
       " \"you'll\",\n",
       " \"you'd\",\n",
       " 'your',\n",
       " 'yours',\n",
       " 'yourself',\n",
       " 'yourselves',\n",
       " 'he',\n",
       " 'him',\n",
       " 'his',\n",
       " 'himself',\n",
       " 'she',\n",
       " \"she's\",\n",
       " 'her',\n",
       " 'hers',\n",
       " 'herself',\n",
       " 'it',\n",
       " \"it's\",\n",
       " 'its',\n",
       " 'itself',\n",
       " 'they',\n",
       " 'them',\n",
       " 'their',\n",
       " 'theirs',\n",
       " 'themselves',\n",
       " 'what',\n",
       " 'which',\n",
       " 'who',\n",
       " 'whom',\n",
       " 'this',\n",
       " 'that',\n",
       " \"that'll\",\n",
       " 'these',\n",
       " 'those',\n",
       " 'am',\n",
       " 'is',\n",
       " 'are',\n",
       " 'was',\n",
       " 'were',\n",
       " 'be',\n",
       " 'been',\n",
       " 'being',\n",
       " 'have',\n",
       " 'has',\n",
       " 'had',\n",
       " 'having',\n",
       " 'do',\n",
       " 'does',\n",
       " 'did',\n",
       " 'doing',\n",
       " 'a',\n",
       " 'an',\n",
       " 'the',\n",
       " 'and',\n",
       " 'but',\n",
       " 'if',\n",
       " 'or',\n",
       " 'because',\n",
       " 'as',\n",
       " 'until',\n",
       " 'while',\n",
       " 'of',\n",
       " 'at',\n",
       " 'by',\n",
       " 'for',\n",
       " 'with',\n",
       " 'about',\n",
       " 'against',\n",
       " 'between',\n",
       " 'into',\n",
       " 'through',\n",
       " 'during',\n",
       " 'before',\n",
       " 'after',\n",
       " 'above',\n",
       " 'below',\n",
       " 'to',\n",
       " 'from',\n",
       " 'up',\n",
       " 'down',\n",
       " 'in',\n",
       " 'out',\n",
       " 'on',\n",
       " 'off',\n",
       " 'over',\n",
       " 'under',\n",
       " 'again',\n",
       " 'further',\n",
       " 'then',\n",
       " 'once',\n",
       " 'here',\n",
       " 'there',\n",
       " 'when',\n",
       " 'where',\n",
       " 'why',\n",
       " 'how',\n",
       " 'all',\n",
       " 'any',\n",
       " 'both',\n",
       " 'each',\n",
       " 'few',\n",
       " 'more',\n",
       " 'most',\n",
       " 'other',\n",
       " 'some',\n",
       " 'such',\n",
       " 'no',\n",
       " 'nor',\n",
       " 'not',\n",
       " 'only',\n",
       " 'own',\n",
       " 'same',\n",
       " 'so',\n",
       " 'than',\n",
       " 'too',\n",
       " 'very',\n",
       " 's',\n",
       " 't',\n",
       " 'can',\n",
       " 'will',\n",
       " 'just',\n",
       " 'don',\n",
       " \"don't\",\n",
       " 'should',\n",
       " \"should've\",\n",
       " 'now',\n",
       " 'd',\n",
       " 'll',\n",
       " 'm',\n",
       " 'o',\n",
       " 're',\n",
       " 've',\n",
       " 'y',\n",
       " 'ain',\n",
       " 'aren',\n",
       " \"aren't\",\n",
       " 'couldn',\n",
       " \"couldn't\",\n",
       " 'didn',\n",
       " \"didn't\",\n",
       " 'doesn',\n",
       " \"doesn't\",\n",
       " 'hadn',\n",
       " \"hadn't\",\n",
       " 'hasn',\n",
       " \"hasn't\",\n",
       " 'haven',\n",
       " \"haven't\",\n",
       " 'isn',\n",
       " \"isn't\",\n",
       " 'ma',\n",
       " 'mightn',\n",
       " \"mightn't\",\n",
       " 'mustn',\n",
       " \"mustn't\",\n",
       " 'needn',\n",
       " \"needn't\",\n",
       " 'shan',\n",
       " \"shan't\",\n",
       " 'shouldn',\n",
       " \"shouldn't\",\n",
       " 'wasn',\n",
       " \"wasn't\",\n",
       " 'weren',\n",
       " \"weren't\",\n",
       " 'won',\n",
       " \"won't\",\n",
       " 'wouldn',\n",
       " \"wouldn't\"]"
      ]
     },
     "metadata": {},
     "execution_count": 10
    }
   ],
   "metadata": {}
  },
  {
   "cell_type": "code",
   "execution_count": 19,
   "source": [
    "lowerWord = [w for w in word_tokenize(text.lower())]\n",
    "freqDist = FreqDist(lowerWord)\n",
    "freqDist.most_common(20)"
   ],
   "outputs": [
    {
     "output_type": "execute_result",
     "data": {
      "text/plain": [
       "[(',', 685),\n",
       " ('the', 439),\n",
       " ('and', 348),\n",
       " ('.', 221),\n",
       " ('of', 146),\n",
       " ('in', 141),\n",
       " ('i', 130),\n",
       " ('a', 127),\n",
       " ('to', 111),\n",
       " (';', 99),\n",
       " ('my', 83),\n",
       " (':', 76),\n",
       " ('!', 68),\n",
       " ('with', 66),\n",
       " ('?', 65),\n",
       " ('his', 57),\n",
       " ('he', 56),\n",
       " ('is', 52),\n",
       " ('``', 50),\n",
       " (\"'s\", 48)]"
      ]
     },
     "metadata": {},
     "execution_count": 19
    }
   ],
   "metadata": {}
  },
  {
   "cell_type": "code",
   "execution_count": 21,
   "source": [
    "alphanumWord = [w for w in word_tokenize(text.lower())\n",
    "if w.isalpha() ]\n",
    "freqDist = FreqDist(alphanumWord)\n",
    "freqDist.most_common(20)"
   ],
   "outputs": [
    {
     "output_type": "execute_result",
     "data": {
      "text/plain": [
       "[('the', 439),\n",
       " ('and', 348),\n",
       " ('of', 146),\n",
       " ('in', 141),\n",
       " ('i', 130),\n",
       " ('a', 127),\n",
       " ('to', 111),\n",
       " ('my', 83),\n",
       " ('with', 66),\n",
       " ('his', 57),\n",
       " ('he', 56),\n",
       " ('is', 52),\n",
       " ('little', 45),\n",
       " ('on', 44),\n",
       " ('they', 44),\n",
       " ('not', 43),\n",
       " ('thee', 42),\n",
       " ('that', 39),\n",
       " ('all', 39),\n",
       " ('but', 38)]"
      ]
     },
     "metadata": {},
     "execution_count": 21
    }
   ],
   "metadata": {}
  },
  {
   "cell_type": "code",
   "execution_count": 22,
   "source": [
    "cleanWord = [w for w in word_tokenize(text.lower())\n",
    "                if w.isalpha() and w not in stopwords.words('english')]\n",
    "freqDist = FreqDist(cleanWord)\n",
    "freqDist.most_common(20)\n"
   ],
   "outputs": [
    {
     "output_type": "execute_result",
     "data": {
      "text/plain": [
       "[('little', 45),\n",
       " ('thee', 42),\n",
       " ('like', 35),\n",
       " ('thou', 35),\n",
       " ('thy', 31),\n",
       " ('love', 29),\n",
       " ('sweet', 28),\n",
       " ('night', 28),\n",
       " ('joy', 25),\n",
       " ('away', 24),\n",
       " ('weep', 24),\n",
       " ('father', 22),\n",
       " ('sleep', 21),\n",
       " ('happy', 19),\n",
       " ('shall', 19),\n",
       " ('day', 19),\n",
       " ('mother', 19),\n",
       " ('child', 18),\n",
       " ('every', 17),\n",
       " ('never', 17)]"
      ]
     },
     "metadata": {},
     "execution_count": 22
    }
   ],
   "metadata": {}
  }
 ],
 "metadata": {
  "orig_nbformat": 4,
  "language_info": {
   "name": "python",
   "version": "3.8.10",
   "mimetype": "text/x-python",
   "codemirror_mode": {
    "name": "ipython",
    "version": 3
   },
   "pygments_lexer": "ipython3",
   "nbconvert_exporter": "python",
   "file_extension": ".py"
  },
  "kernelspec": {
   "name": "python3",
   "display_name": "Python 3.8.10 64-bit"
  },
  "interpreter": {
   "hash": "916dbcbb3f70747c44a77c7bcd40155683ae19c65e1c03b4aa3499c5328201f1"
  }
 },
 "nbformat": 4,
 "nbformat_minor": 2
}